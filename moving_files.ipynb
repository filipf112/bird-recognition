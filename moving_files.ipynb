{
 "cells": [
  {
   "cell_type": "code",
   "execution_count": 2,
   "id": "58ed520b-f39d-4cc1-bbe1-e1e345d11a38",
   "metadata": {},
   "outputs": [],
   "source": [
    "import os\n",
    "import shutil\n",
    "import numpy as np\n",
    "\n",
    "folders = ['Anser_anser', 'Dendrocopos_major', 'Parsed_Capuchinbird', 'Parus_major', 'Himantopushimantopus',  'Athenenoctua', 'Phasianus_colchicus', 'Corvuscornix' ]\n",
    "train_dir = r'D:\\sieci_neuronowe\\projekt-sieci-neuronowe\\Spectro_v2'\n",
    "test_dir = r'D:\\sieci_neuronowe\\projekt-sieci-neuronowe\\Spectro_v2_test'\n",
    "\n",
    "# Tworzenie folderu testowego, jeśli nie istnieje\n",
    "if not os.path.exists(test_dir):\n",
    "    os.makedirs(test_dir)\n",
    "\n",
    "for folder in folders:\n",
    "    folder_train_dir = os.path.join(train_dir, folder)\n",
    "    folder_test_dir = os.path.join(test_dir, folder)\n",
    "\n",
    "    # Tworzenie podfolderów w folderze testowym, jeśli nie istnieją\n",
    "    if not os.path.exists(folder_test_dir):\n",
    "        os.makedirs(folder_test_dir)\n",
    "\n",
    "    # Lista plików w folderze treningowym\n",
    "    files = os.listdir(folder_train_dir)\n",
    "    np.random.shuffle(files)\n",
    "    num_test_images = int(0.2 * len(files))\n",
    "    test_files = files[:num_test_images]\n",
    "\n",
    "    # Przenoszenie wybranych plików do folderu testowego\n",
    "    for file in test_files:\n",
    "        shutil.move(os.path.join(folder_train_dir, file), os.path.join(folder_test_dir, file))\n"
   ]
  },
  {
   "cell_type": "code",
   "execution_count": null,
   "id": "bae4f3d9-20dd-4abe-a42a-5b1096b5f112",
   "metadata": {},
   "outputs": [],
   "source": []
  }
 ],
 "metadata": {
  "kernelspec": {
   "display_name": "Python 3 (ipykernel)",
   "language": "python",
   "name": "python3"
  },
  "language_info": {
   "codemirror_mode": {
    "name": "ipython",
    "version": 3
   },
   "file_extension": ".py",
   "mimetype": "text/x-python",
   "name": "python",
   "nbconvert_exporter": "python",
   "pygments_lexer": "ipython3",
   "version": "3.10.0"
  }
 },
 "nbformat": 4,
 "nbformat_minor": 5
}
